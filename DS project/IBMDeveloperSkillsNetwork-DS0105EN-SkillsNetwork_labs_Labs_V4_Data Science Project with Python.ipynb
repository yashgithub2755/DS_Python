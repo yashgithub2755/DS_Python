{
  "metadata": {
    "language_info": {
      "name": ""
    },
    "kernelspec": {
      "name": "python",
      "display_name": "Python (Pyodide)",
      "language": "python"
    }
  },
  "nbformat_minor": 4,
  "nbformat": 4,
  "cells": [
    {
      "cell_type": "code",
      "source": "!pip install yfinance==0.1.67\n#!pip install pandas==1.3.3\n#!pip install requests==2.26.0\n!mamba install bs4==4.10.0 -y\n#!pip install plotly==5.3.1\nimport yfinance as yf\nimport pandas as pd\nimport requests\nfrom bs4 import BeautifulSoup\nimport plotly.graph_objects as go\nfrom plotly.subplots import make_subplots\n\ndef make_graph(stock_data, revenue_data, stock):\n    fig = make_subplots(rows=2, cols=1, shared_xaxes=True, subplot_titles=(\"Historical Share Price\", \"Historical Revenue\"), vertical_spacing = .3)\n    stock_data_specific = stock_data[stock_data.Date <= '2021--06-14']\n    revenue_data_specific = revenue_data[revenue_data.Date <= '2021-04-30']\n    fig.add_trace(go.Scatter(x=pd.to_datetime(stock_data_specific.Date, infer_datetime_format=True), y=stock_data_specific.Close.astype(\"float\"), name=\"Share Price\"), row=1, col=1)\n    fig.add_trace(go.Scatter(x=pd.to_datetime(revenue_data_specific.Date, infer_datetime_format=True), y=revenue_data_specific.Revenue.astype(\"float\"), name=\"Revenue\"), row=2, col=1)\n    fig.update_xaxes(title_text=\"Date\", row=1, col=1)\n    fig.update_xaxes(title_text=\"Date\", row=2, col=1)\n    fig.update_yaxes(title_text=\"Price ($US)\", row=1, col=1)\n    fig.update_yaxes(title_text=\"Revenue ($US Millions)\", row=2, col=1)\n    fig.update_layout(showlegend=False,\n    height=900,\n    title=stock,\n    xaxis_rangeslider_visible=True)\n    fig.show()\n    \n    url = \"https://www.macrotrends.net/stocks/charts/TSLA/tesla/revenue\"\nhtml_data = requests.get(url).text\n\nsoup = BeautifulSoup(html_data,'html5lib')\ntesla_revenue=pd.read_html(url, match=\"Tesla Quarterly Revenue\", flavor='bs4')[0]\ntesla_revenue.head()\n\ntesla_revenue = tesla_revenue.rename(columns={\"Tesla Quarterly Revenue(Millions of US $)\":\"Date\",\"Tesla Quarterly Revenue(Millions of US $).1\":\"Revenue\"}) #Rename df columns to 'Date' and 'Revenue'\ntesla_revenue[\"Revenue\"] = tesla_revenue['Revenue'].str.replace(',|\\$',\"\") \ntesla_revenue.head()\ntesla_revenue.dropna(inplace=True)\n\ntesla_revenue = tesla_revenue[tesla_revenue['Revenue'] != \"\"]\ntesla_revenue.tail()\ngame_stop = yf.Ticker(\"GME\")\n\ngme_data = game_stop.history(period=\"max\")\ngme_data.reset_index(inplace=True)\ngme_data.head()\n\nurl = \"https://www.macrotrends.net/stocks/charts/GME/gamestop/revenue\"\nhtml_data = requests.get(url).text\n\nsoup = BeautifulSoup(html_data,'html5lib')\n\ngme_revenue=pd.read_html(url,match=\"GameStop Quarterly Revenue\", flavor='bs4')[0]\n#gme_revenue.head()\ngme_revenue = gme_revenue.rename(columns={\"GameStop Quarterly Revenue(Millions of US $)\":\"Date\",\"GameStop Quarterly Revenue(Millions of US $).1\":\"Revenue\"}) \ngme_revenue[\"Revenue\"] = gme_revenue['Revenue'].str.replace(',|\\$',\"\") \ngme_revenue.head() \n\ngme_revenue.dropna(inplace=True)\ngme_revenue = gme_revenue[gme_revenue['Revenue'] != \"\"]\n\ngme_revenue.tail()\n\nmake_graph(tesla_data, tesla_revenue, 'Tesla')\nmake_graph(gme_data, gme_revenue, 'GameStop')\n",
      "metadata": {
        "trusted": true
      },
      "execution_count": null,
      "outputs": []
    },
    {
      "cell_type": "code",
      "source": "",
      "metadata": {},
      "execution_count": null,
      "outputs": []
    }
  ]
}